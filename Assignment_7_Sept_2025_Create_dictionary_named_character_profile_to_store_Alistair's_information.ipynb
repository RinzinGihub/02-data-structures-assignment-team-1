{
  "nbformat": 4,
  "nbformat_minor": 0,
  "metadata": {
    "colab": {
      "provenance": [],
      "authorship_tag": "ABX9TyPZEfgMIcpNGiJfKNfkHv3f",
      "include_colab_link": true
    },
    "kernelspec": {
      "name": "python3",
      "display_name": "Python 3"
    },
    "language_info": {
      "name": "python"
    }
  },
  "cells": [
    {
      "cell_type": "markdown",
      "metadata": {
        "id": "view-in-github",
        "colab_type": "text"
      },
      "source": [
        "<a href=\"https://colab.research.google.com/github/RinzinGihub/02-data-structures-assignment-team-1/blob/main/Assignment_7_Sept_2025_Create_dictionary_named_character_profile_to_store_Alistair's_information.ipynb\" target=\"_parent\"><img src=\"https://colab.research.google.com/assets/colab-badge.svg\" alt=\"Open In Colab\"/></a>"
      ]
    },
    {
      "cell_type": "code",
      "execution_count": 17,
      "metadata": {
        "id": "fXw5KzftPSqf"
      },
      "outputs": [],
      "source": [
        "# Create the Character\n",
        "# Create Character Profile dictionary with basic information\n",
        "character_profile = {\n",
        "    'name':\"Alistair the Brave\",\n",
        "    'level':1,\n",
        "    'health':100,\n",
        "    'mana':50,\n",
        "    'gold':50.75,\n",
        "    'is_alive':True\n",
        "    }\n"
      ]
    },
    {
      "cell_type": "code",
      "source": [
        "# the character name and level in a formatted string\n",
        "print(f\"Character: {character_profile['name']}, Level: {character_profile['level']}\")"
      ],
      "metadata": {
        "colab": {
          "base_uri": "https://localhost:8080/"
        },
        "id": "WXmPXXLeQTzd",
        "outputId": "07849947-5082-454c-8a5d-2d4a08bac148"
      },
      "execution_count": 22,
      "outputs": [
        {
          "output_type": "stream",
          "name": "stdout",
          "text": [
            "Character: Alistair the Brave, Level: 1\n"
          ]
        }
      ]
    },
    {
      "cell_type": "code",
      "source": [
        "# update the character's health to 85\n",
        "character_profile['health'] = 85\n",
        "print(f'Health updated to: {character_profile[\"health\"]}')"
      ],
      "metadata": {
        "colab": {
          "base_uri": "https://localhost:8080/"
        },
        "id": "h0LQhcdwYkN7",
        "outputId": "ce667e35-1a7d-48f9-bec2-2a84e5fb0fc7"
      },
      "execution_count": 27,
      "outputs": [
        {
          "output_type": "stream",
          "name": "stdout",
          "text": [
            "Health updated to: 85\n"
          ]
        }
      ]
    },
    {
      "cell_type": "code",
      "source": [
        "# Add a new Key Value Pair\n",
        "character_profile['experience'] = 0\n",
        "print(f'Experience added: {character_profile['experience']}')"
      ],
      "metadata": {
        "colab": {
          "base_uri": "https://localhost:8080/"
        },
        "id": "SkiQ6hcyauMl",
        "outputId": "78cfcbfb-68a1-48f7-a49a-a02999aa2efa"
      },
      "execution_count": 29,
      "outputs": [
        {
          "output_type": "stream",
          "name": "stdout",
          "text": [
            "Experience added: 0\n"
          ]
        }
      ]
    },
    {
      "cell_type": "code",
      "source": [
        "for key, value in character_profile.items():\n",
        "  print(f'{key.capitalize()}: {value}')"
      ],
      "metadata": {
        "colab": {
          "base_uri": "https://localhost:8080/"
        },
        "id": "5jg04ekvb3Nv",
        "outputId": "513f5ccf-54f1-4092-bf75-40940ff2bf73"
      },
      "execution_count": 30,
      "outputs": [
        {
          "output_type": "stream",
          "name": "stdout",
          "text": [
            "Name: Alistair the Brave\n",
            "Level: 1\n",
            "Health: 85\n",
            "Mana: 50\n",
            "Gold: 50.75\n",
            "Is_alive: True\n",
            "Experience: 0\n"
          ]
        }
      ]
    }
  ]
}